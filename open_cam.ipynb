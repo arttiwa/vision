{
 "cells": [
  {
   "cell_type": "code",
   "execution_count": null,
   "id": "020f227c-e457-4da7-91aa-2d6f154b084f",
   "metadata": {},
   "outputs": [],
   "source": [
    "import cv2\n",
    "\n",
    "def open_camera():\n",
    "    # Capture video from the webcam (0 is the default camera)\n",
    "    cap = cv2.VideoCapture(0)\n",
    "\n",
    "    # Check if the webcam is opened correctly\n",
    "    if not cap.isOpened():\n",
    "        raise IOError(\"Cannot open webcam\")\n",
    "\n",
    "    try:\n",
    "        while True:\n",
    "            # Capture frame-by-frame from the camera\n",
    "            ret, frame = cap.read()\n",
    "\n",
    "            # If frame is read correctly ret is True\n",
    "            if not ret:\n",
    "                print(\"Can't receive frame (stream end?). Exiting ...\")\n",
    "                break\n",
    "\n",
    "            # Our operations on the frame come here\n",
    "            # Display the resulting frame\n",
    "            cv2.imshow('Webcam', frame)\n",
    "\n",
    "            # Press 'q' to exit the loop\n",
    "            if cv2.waitKey(1) & 0xFF == ord('q'):\n",
    "                break\n",
    "    finally:\n",
    "        # When everything done, release the capture\n",
    "        cap.release()\n",
    "        cv2.destroyAllWindows()\n",
    "\n",
    "if __name__ == '__main__':\n",
    "    open_camera()\n"
   ]
  },
  {
   "cell_type": "code",
   "execution_count": null,
   "id": "29d19a88-7856-44af-9ed1-29bedb46ae8e",
   "metadata": {},
   "outputs": [],
   "source": []
  }
 ],
 "metadata": {
  "kernelspec": {
   "display_name": "Python 3 (ipykernel)",
   "language": "python",
   "name": "python3"
  },
  "language_info": {
   "codemirror_mode": {
    "name": "ipython",
    "version": 3
   },
   "file_extension": ".py",
   "mimetype": "text/x-python",
   "name": "python",
   "nbconvert_exporter": "python",
   "pygments_lexer": "ipython3",
   "version": "3.12.3"
  }
 },
 "nbformat": 4,
 "nbformat_minor": 5
}
